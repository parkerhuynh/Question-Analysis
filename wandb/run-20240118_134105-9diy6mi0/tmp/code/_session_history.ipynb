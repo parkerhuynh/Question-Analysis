{
 "cells": [
  {
   "cell_type": "code",
   "execution_count": 1,
   "id": "dff59440",
   "metadata": {},
   "outputs": [],
   "source": [
    "import pandas as pd\n",
    "import wandb\n",
    "import pandas as pd\n",
    "import seaborn as sns\n",
    "import matplotlib.pyplot as plt\n",
    "from sklearn.metrics import confusion_matrix\n",
    "from io import BytesIO\n",
    "from PIL import Image\n",
    "import numpy as np"
   ]
  },
  {
   "cell_type": "code",
   "execution_count": 2,
   "id": "3d165a92",
   "metadata": {},
   "outputs": [],
   "source": [
    "import pandas as pd\n",
    "import wandb\n",
    "import pandas as pd\n",
    "import seaborn as sns\n",
    "import matplotlib.pyplot as plt\n",
    "from sklearn.metrics import confusion_matrix\n",
    "from io import BytesIO\n",
    "from PIL import Image\n",
    "import numpy as np"
   ]
  },
  {
   "cell_type": "code",
   "execution_count": 3,
   "id": "2bacc608",
   "metadata": {},
   "outputs": [
    {
     "name": "stdout",
     "output_type": "stream",
     "text": [
      "<wandb.sdk.wandb_run.Run at 0x7f08c4881ee0>"
     ]
    },
    {
     "data": {
      "text/html": [
       "Tracking run with wandb version 0.16.2"
      ],
      "text/plain": [
       "<IPython.core.display.HTML object>"
      ]
     },
     "metadata": {},
     "output_type": "display_data"
    },
    {
     "data": {
      "text/html": [
       "Run data is saved locally in <code>/home/ndhuynh/github/Question-Analysis/wandb/run-20240118_134105-9diy6mi0</code>"
      ],
      "text/plain": [
       "<IPython.core.display.HTML object>"
      ]
     },
     "metadata": {},
     "output_type": "display_data"
    },
    {
     "data": {
      "text/html": [
       "Resuming run <strong><a href='https://wandb.ai/ngocdunghuynh/Question%20Type/runs/9diy6mi0' target=\"_blank\">GRU+GLOVE 0</a></strong> to <a href='https://wandb.ai/ngocdunghuynh/Question%20Type' target=\"_blank\">Weights & Biases</a> (<a href='https://wandb.me/run' target=\"_blank\">docs</a>)<br/>"
      ],
      "text/plain": [
       "<IPython.core.display.HTML object>"
      ]
     },
     "metadata": {},
     "output_type": "display_data"
    },
    {
     "data": {
      "text/html": [
       " View project at <a href='https://wandb.ai/ngocdunghuynh/Question%20Type' target=\"_blank\">https://wandb.ai/ngocdunghuynh/Question%20Type</a>"
      ],
      "text/plain": [
       "<IPython.core.display.HTML object>"
      ]
     },
     "metadata": {},
     "output_type": "display_data"
    },
    {
     "data": {
      "text/html": [
       " View run at <a href='https://wandb.ai/ngocdunghuynh/Question%20Type/runs/9diy6mi0' target=\"_blank\">https://wandb.ai/ngocdunghuynh/Question%20Type/runs/9diy6mi0</a>"
      ],
      "text/plain": [
       "<IPython.core.display.HTML object>"
      ]
     },
     "metadata": {},
     "output_type": "display_data"
    }
   ],
   "source": [
    "wandb.init(project=\"Question Type\", id='9diy6mi0', resume=\"must\")"
   ]
  },
  {
   "cell_type": "code",
   "execution_count": 4,
   "id": "ec14345b",
   "metadata": {},
   "outputs": [],
   "source": [
    "result = pd.read_csv('predictions.csv')"
   ]
  },
  {
   "cell_type": "code",
   "execution_count": 5,
   "id": "65788a60",
   "metadata": {},
   "outputs": [],
   "source": [
    "idx_to_ans_type = {0: 'yes/no', 1: 'action', 2: 'object', 3: 'location', 4: 'other', 5: 'color', 6: 'human', 7: 'number'}"
   ]
  },
  {
   "cell_type": "code",
   "execution_count": 6,
   "id": "e791cc51",
   "metadata": {},
   "outputs": [
    {
     "name": "stdout",
     "output_type": "stream",
     "text": [
      "       question id  target  prediction\n",
      "0            53983       5           5\n",
      "1           108616       7           4\n",
      "2           147680       0           0\n",
      "3            76757       2           2\n",
      "4           130783       4           5\n",
      "...            ...     ...         ...\n",
      "18469       106745       0           0\n",
      "18470        37605       1           1\n",
      "18471       129558       0           0\n",
      "18472       105698       5           5\n",
      "18473        24644       0           0\n",
      "\n",
      "[18474 rows x 3 columns]"
     ]
    }
   ],
   "source": [
    "result"
   ]
  },
  {
   "cell_type": "code",
   "execution_count": 7,
   "id": "7992fca8",
   "metadata": {},
   "outputs": [],
   "source": [
    "result['target'] = result['target'].map(idx_to_ans_type)\n",
    "result['prediction'] = result['prediction'].map(idx_to_ans_type)"
   ]
  },
  {
   "cell_type": "code",
   "execution_count": 8,
   "id": "da11f92f",
   "metadata": {},
   "outputs": [
    {
     "name": "stdout",
     "output_type": "stream",
     "text": [
      "0         color\n",
      "1         other\n",
      "2        yes/no\n",
      "3        object\n",
      "4         color\n",
      "          ...  \n",
      "18469    yes/no\n",
      "18470    action\n",
      "18471    yes/no\n",
      "18472     color\n",
      "18473    yes/no\n",
      "Name: prediction, Length: 18474, dtype: object"
     ]
    }
   ],
   "source": [
    "result['prediction']"
   ]
  },
  {
   "cell_type": "code",
   "execution_count": 9,
   "id": "36c96a99",
   "metadata": {},
   "outputs": [],
   "source": [
    "result.to_csv(\"predictions.csv\")"
   ]
  },
  {
   "cell_type": "code",
   "execution_count": 10,
   "id": "fa0f09a9",
   "metadata": {},
   "outputs": [
    {
     "name": "stdout",
     "output_type": "stream",
     "text": [
      "['/home/ndhuynh/github/Question-Analysis/wandb/run-20240118_134105-9diy6mi0/files/predictions.csv']"
     ]
    }
   ],
   "source": [
    "wandb.save(\"predictions.csv\")"
   ]
  },
  {
   "cell_type": "code",
   "execution_count": 11,
   "id": "8b2bfdfb",
   "metadata": {},
   "outputs": [],
   "source": [
    "test_result = result"
   ]
  },
  {
   "cell_type": "code",
   "execution_count": 12,
   "id": "6838a8f2",
   "metadata": {},
   "outputs": [],
   "source": [
    "y_true = test_result['target']\n",
    "y_pred = test_result['prediction']\n",
    "conf_matrix = confusion_matrix(y_true, y_pred, labels=y_true.unique())\n",
    "\n",
    "# Normalize the confusion matrix\n",
    "conf_matrix_normalized = conf_matrix.astype('float') / conf_matrix.sum(axis=1)[:, np.newaxis]\n",
    "\n",
    "# Set up the matplotlib figure for side-by-side plots\n",
    "plt.figure(figsize=(30, 12))\n",
    "\n",
    "# Regular confusion matrix\n",
    "plt.subplot(1, 2, 1)\n",
    "sns.heatmap(conf_matrix, annot=True, fmt='d', \n",
    "            xticklabels=y_true.unique(), yticklabels=y_true.unique(), \n",
    "            cmap='Blues')\n",
    "plt.title('Confusion Matrix')\n",
    "plt.xlabel('Predicted Type')\n",
    "plt.ylabel('True Type')\n",
    "\n",
    "# Normalized confusion matrix\n",
    "plt.subplot(1, 2, 2)\n",
    "sns.heatmap(conf_matrix_normalized, annot=True, fmt='.2f', \n",
    "            xticklabels=y_true.unique(), yticklabels=y_true.unique(), \n",
    "            cmap='Blues')\n",
    "plt.title('Normalized Confusion Matrix')\n",
    "plt.xlabel('Predicted Type')\n",
    "plt.ylabel('True Type')\n",
    "\n",
    "# Main title\n",
    "\n",
    "# Save the plot to a buffer\n",
    "buffer = BytesIO()\n",
    "plt.savefig(buffer, format='png')\n",
    "buffer.seek(0)\n",
    "image = Image.open(buffer)\n",
    "image_array = np.array(image)\n",
    "\n",
    "# Log the image to wandb\n",
    "wandb.log({\"Confusion Matrix (3 types)\": wandb.Image(image_array)})\n",
    "\n",
    "# Close the plot\n",
    "plt.close()"
   ]
  },
  {
   "cell_type": "code",
   "execution_count": 13,
   "id": "719676ce",
   "metadata": {},
   "outputs": [],
   "source": [
    "wandb.finish()"
   ]
  }
 ],
 "metadata": {
  "kernelspec": {
   "display_name": "Python 3",
   "language": "python",
   "name": "python3"
  },
  "language_info": {
   "codemirror_mode": {
    "name": "ipython",
    "version": 3
   },
   "file_extension": ".py",
   "mimetype": "text/x-python",
   "name": "python",
   "nbconvert_exporter": "python",
   "pygments_lexer": "ipython3",
   "version": "3.9.18"
  }
 },
 "nbformat": 4,
 "nbformat_minor": 5
}
