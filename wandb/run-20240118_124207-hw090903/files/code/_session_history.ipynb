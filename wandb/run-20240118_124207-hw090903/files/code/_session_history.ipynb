{
 "cells": [
  {
   "cell_type": "code",
   "execution_count": 1,
   "id": "a6248b35",
   "metadata": {},
   "outputs": [],
   "source": [
    "import pandas as pd\n",
    "import wandb"
   ]
  },
  {
   "cell_type": "code",
   "execution_count": 2,
   "id": "1d1d97f0",
   "metadata": {},
   "outputs": [
    {
     "name": "stdout",
     "output_type": "stream",
     "text": [
      "<wandb.sdk.wandb_run.Run at 0x7fbc9a0322b0>"
     ]
    },
    {
     "data": {
      "text/html": [
       "Tracking run with wandb version 0.16.2"
      ],
      "text/plain": [
       "<IPython.core.display.HTML object>"
      ]
     },
     "metadata": {},
     "output_type": "display_data"
    },
    {
     "data": {
      "text/html": [
       "Run data is saved locally in <code>/home/ndhuynh/github/Question-Analysis/wandb/run-20240118_124207-hw090903</code>"
      ],
      "text/plain": [
       "<IPython.core.display.HTML object>"
      ]
     },
     "metadata": {},
     "output_type": "display_data"
    },
    {
     "data": {
      "text/html": [
       "Resuming run <strong><a href='https://wandb.ai/ngocdunghuynh/Question%20Type/runs/hw090903' target=\"_blank\">BERT 0</a></strong> to <a href='https://wandb.ai/ngocdunghuynh/Question%20Type' target=\"_blank\">Weights & Biases</a> (<a href='https://wandb.me/run' target=\"_blank\">docs</a>)<br/>"
      ],
      "text/plain": [
       "<IPython.core.display.HTML object>"
      ]
     },
     "metadata": {},
     "output_type": "display_data"
    },
    {
     "data": {
      "text/html": [
       " View project at <a href='https://wandb.ai/ngocdunghuynh/Question%20Type' target=\"_blank\">https://wandb.ai/ngocdunghuynh/Question%20Type</a>"
      ],
      "text/plain": [
       "<IPython.core.display.HTML object>"
      ]
     },
     "metadata": {},
     "output_type": "display_data"
    },
    {
     "data": {
      "text/html": [
       " View run at <a href='https://wandb.ai/ngocdunghuynh/Question%20Type/runs/hw090903' target=\"_blank\">https://wandb.ai/ngocdunghuynh/Question%20Type/runs/hw090903</a>"
      ],
      "text/plain": [
       "<IPython.core.display.HTML object>"
      ]
     },
     "metadata": {},
     "output_type": "display_data"
    }
   ],
   "source": [
    "wandb.init(project=\"Question Type\", id='hw090903', resume=\"must\")"
   ]
  },
  {
   "cell_type": "code",
   "execution_count": 3,
   "id": "fa337c04",
   "metadata": {},
   "outputs": [],
   "source": [
    "result = pd.read_csv('predictions.csv')"
   ]
  },
  {
   "cell_type": "code",
   "execution_count": 4,
   "id": "d1a3d0ae",
   "metadata": {},
   "outputs": [],
   "source": [
    "idx_to_ans_type = {0: 'yes/no', 1: 'action', 2: 'object', 3: 'location', 4: 'other', 5: 'color', 6: 'human', 7: 'number'}"
   ]
  },
  {
   "cell_type": "code",
   "execution_count": 5,
   "id": "389004e1",
   "metadata": {},
   "outputs": [
    {
     "name": "stdout",
     "output_type": "stream",
     "text": [
      "       question id  target  prediction\n",
      "0            79128       2           2\n",
      "1             1837       1           1\n",
      "2            49215       5           5\n",
      "3           124093       0           0\n",
      "4            16076       7           7\n",
      "...            ...     ...         ...\n",
      "18469         6660       0           0\n",
      "18470       153306       0           0\n",
      "18471       129201       5           5\n",
      "18472       146791       4           4\n",
      "18473         1564       1           1\n",
      "\n",
      "[18474 rows x 3 columns]"
     ]
    }
   ],
   "source": [
    "result"
   ]
  },
  {
   "cell_type": "code",
   "execution_count": 6,
   "id": "39e52167",
   "metadata": {},
   "outputs": [],
   "source": [
    "result['target'] = result['target'].map(idx_to_ans_type)\n",
    "result['prediction'] = result['prediction'].map(idx_to_ans_type)"
   ]
  },
  {
   "cell_type": "code",
   "execution_count": 7,
   "id": "8171e54c",
   "metadata": {},
   "outputs": [
    {
     "name": "stdout",
     "output_type": "stream",
     "text": [
      "0        object\n",
      "1        action\n",
      "2         color\n",
      "3        yes/no\n",
      "4        number\n",
      "          ...  \n",
      "18469    yes/no\n",
      "18470    yes/no\n",
      "18471     color\n",
      "18472     other\n",
      "18473    action\n",
      "Name: prediction, Length: 18474, dtype: object"
     ]
    }
   ],
   "source": [
    "result['prediction']"
   ]
  },
  {
   "cell_type": "code",
   "execution_count": 8,
   "id": "1340e74e",
   "metadata": {},
   "outputs": [
    {
     "name": "stdout",
     "output_type": "stream",
     "text": [
      "       question id  target prediction\n",
      "0            79128  object     object\n",
      "1             1837  action     action\n",
      "2            49215   color      color\n",
      "3           124093  yes/no     yes/no\n",
      "4            16076  number     number\n",
      "...            ...     ...        ...\n",
      "18469         6660  yes/no     yes/no\n",
      "18470       153306  yes/no     yes/no\n",
      "18471       129201   color      color\n",
      "18472       146791   other      other\n",
      "18473         1564  action     action\n",
      "\n",
      "[18474 rows x 3 columns]"
     ]
    }
   ],
   "source": [
    "result"
   ]
  },
  {
   "cell_type": "code",
   "execution_count": 9,
   "id": "5791389a",
   "metadata": {},
   "outputs": [
    {
     "name": "stdout",
     "output_type": "stream",
     "text": [
      "['/home/ndhuynh/github/Question-Analysis/wandb/run-20240118_124207-hw090903/files/predictions.csv']"
     ]
    }
   ],
   "source": [
    "wandb.save(\"predictions.csv\")"
   ]
  },
  {
   "cell_type": "code",
   "execution_count": 10,
   "id": "c5b9a81c",
   "metadata": {},
   "outputs": [],
   "source": [
    "y_true = test_result['target']\n",
    "y_pred = test_result['prediction']\n",
    "conf_matrix = confusion_matrix(y_true, y_pred, labels=y_true.unique())\n",
    "\n",
    "# Normalize the confusion matrix\n",
    "conf_matrix_normalized = conf_matrix.astype('float') / conf_matrix.sum(axis=1)[:, np.newaxis]\n",
    "\n",
    "# Set up the matplotlib figure for side-by-side plots\n",
    "plt.figure(figsize=(30, 12))\n",
    "\n",
    "# Regular confusion matrix\n",
    "plt.subplot(1, 2, 1)\n",
    "sns.heatmap(conf_matrix, annot=True, fmt='d', \n",
    "            xticklabels=y_true.unique(), yticklabels=y_true.unique(), \n",
    "            cmap='Blues')\n",
    "plt.title('Confusion Matrix')\n",
    "plt.xlabel('Predicted Type')\n",
    "plt.ylabel('True Type')\n",
    "\n",
    "# Normalized confusion matrix\n",
    "plt.subplot(1, 2, 2)\n",
    "sns.heatmap(conf_matrix_normalized, annot=True, fmt='.2f', \n",
    "            xticklabels=y_true.unique(), yticklabels=y_true.unique(), \n",
    "            cmap='Blues')\n",
    "plt.title('Normalized Confusion Matrix')\n",
    "plt.xlabel('Predicted Type')\n",
    "plt.ylabel('True Type')\n",
    "\n",
    "# Main title\n",
    "\n",
    "# Save the plot to a buffer\n",
    "buffer = BytesIO()\n",
    "plt.savefig(buffer, format='png')\n",
    "buffer.seek(0)\n",
    "image = Image.open(buffer)\n",
    "image_array = np.array(image)\n",
    "\n",
    "# Log the image to wandb\n",
    "wandb.log({\"Confusion Matrix (3 types)\": wandb.Image(image_array)})\n",
    "\n",
    "# Close the plot\n",
    "plt.close()"
   ]
  },
  {
   "cell_type": "code",
   "execution_count": 11,
   "id": "fff4b9fa",
   "metadata": {},
   "outputs": [],
   "source": [
    "test_result = result"
   ]
  },
  {
   "cell_type": "code",
   "execution_count": 12,
   "id": "fe8d801d",
   "metadata": {},
   "outputs": [],
   "source": [
    "y_true = test_result['target']\n",
    "y_pred = test_result['prediction']\n",
    "conf_matrix = confusion_matrix(y_true, y_pred, labels=y_true.unique())\n",
    "\n",
    "# Normalize the confusion matrix\n",
    "conf_matrix_normalized = conf_matrix.astype('float') / conf_matrix.sum(axis=1)[:, np.newaxis]\n",
    "\n",
    "# Set up the matplotlib figure for side-by-side plots\n",
    "plt.figure(figsize=(30, 12))\n",
    "\n",
    "# Regular confusion matrix\n",
    "plt.subplot(1, 2, 1)\n",
    "sns.heatmap(conf_matrix, annot=True, fmt='d', \n",
    "            xticklabels=y_true.unique(), yticklabels=y_true.unique(), \n",
    "            cmap='Blues')\n",
    "plt.title('Confusion Matrix')\n",
    "plt.xlabel('Predicted Type')\n",
    "plt.ylabel('True Type')\n",
    "\n",
    "# Normalized confusion matrix\n",
    "plt.subplot(1, 2, 2)\n",
    "sns.heatmap(conf_matrix_normalized, annot=True, fmt='.2f', \n",
    "            xticklabels=y_true.unique(), yticklabels=y_true.unique(), \n",
    "            cmap='Blues')\n",
    "plt.title('Normalized Confusion Matrix')\n",
    "plt.xlabel('Predicted Type')\n",
    "plt.ylabel('True Type')\n",
    "\n",
    "# Main title\n",
    "\n",
    "# Save the plot to a buffer\n",
    "buffer = BytesIO()\n",
    "plt.savefig(buffer, format='png')\n",
    "buffer.seek(0)\n",
    "image = Image.open(buffer)\n",
    "image_array = np.array(image)\n",
    "\n",
    "# Log the image to wandb\n",
    "wandb.log({\"Confusion Matrix (3 types)\": wandb.Image(image_array)})\n",
    "\n",
    "# Close the plot\n",
    "plt.close()"
   ]
  },
  {
   "cell_type": "code",
   "execution_count": 13,
   "id": "be92b1e1",
   "metadata": {},
   "outputs": [],
   "source": [
    "import pandas as pd\n",
    "import wandb\n",
    "import pandas as pd\n",
    "import seaborn as sns\n",
    "import matplotlib.pyplot as plt\n",
    "from sklearn.metrics import confusion_matrix\n",
    "from io import BytesIO\n",
    "from PIL import Image\n",
    "import numpy as np"
   ]
  },
  {
   "cell_type": "code",
   "execution_count": 14,
   "id": "c26bb129",
   "metadata": {},
   "outputs": [],
   "source": [
    "y_true = test_result['target']\n",
    "y_pred = test_result['prediction']\n",
    "conf_matrix = confusion_matrix(y_true, y_pred, labels=y_true.unique())\n",
    "\n",
    "# Normalize the confusion matrix\n",
    "conf_matrix_normalized = conf_matrix.astype('float') / conf_matrix.sum(axis=1)[:, np.newaxis]\n",
    "\n",
    "# Set up the matplotlib figure for side-by-side plots\n",
    "plt.figure(figsize=(30, 12))\n",
    "\n",
    "# Regular confusion matrix\n",
    "plt.subplot(1, 2, 1)\n",
    "sns.heatmap(conf_matrix, annot=True, fmt='d', \n",
    "            xticklabels=y_true.unique(), yticklabels=y_true.unique(), \n",
    "            cmap='Blues')\n",
    "plt.title('Confusion Matrix')\n",
    "plt.xlabel('Predicted Type')\n",
    "plt.ylabel('True Type')\n",
    "\n",
    "# Normalized confusion matrix\n",
    "plt.subplot(1, 2, 2)\n",
    "sns.heatmap(conf_matrix_normalized, annot=True, fmt='.2f', \n",
    "            xticklabels=y_true.unique(), yticklabels=y_true.unique(), \n",
    "            cmap='Blues')\n",
    "plt.title('Normalized Confusion Matrix')\n",
    "plt.xlabel('Predicted Type')\n",
    "plt.ylabel('True Type')\n",
    "\n",
    "# Main title\n",
    "\n",
    "# Save the plot to a buffer\n",
    "buffer = BytesIO()\n",
    "plt.savefig(buffer, format='png')\n",
    "buffer.seek(0)\n",
    "image = Image.open(buffer)\n",
    "image_array = np.array(image)\n",
    "\n",
    "# Log the image to wandb\n",
    "wandb.log({\"Confusion Matrix (3 types)\": wandb.Image(image_array)})\n",
    "\n",
    "# Close the plot\n",
    "plt.close()"
   ]
  },
  {
   "cell_type": "code",
   "execution_count": 15,
   "id": "2e9f4435",
   "metadata": {},
   "outputs": [],
   "source": [
    "wandb.finish()"
   ]
  }
 ],
 "metadata": {
  "kernelspec": {
   "display_name": "Python 3",
   "language": "python",
   "name": "python3"
  },
  "language_info": {
   "codemirror_mode": {
    "name": "ipython",
    "version": 3
   },
   "file_extension": ".py",
   "mimetype": "text/x-python",
   "name": "python",
   "nbconvert_exporter": "python",
   "pygments_lexer": "ipython3",
   "version": "3.9.18"
  }
 },
 "nbformat": 4,
 "nbformat_minor": 5
}
