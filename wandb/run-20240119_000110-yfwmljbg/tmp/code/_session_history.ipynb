{
 "cells": [
  {
   "cell_type": "code",
   "execution_count": 1,
   "id": "b0fa4cee",
   "metadata": {},
   "outputs": [],
   "source": [
    "import pandas as pd\n",
    "import wandb\n",
    "import pandas as pd\n",
    "import seaborn as sns\n",
    "import matplotlib.pyplot as plt\n",
    "from sklearn.metrics import confusion_matrix\n",
    "from io import BytesIO\n",
    "from PIL import Image\n",
    "import numpy as np"
   ]
  },
  {
   "cell_type": "code",
   "execution_count": 2,
   "id": "7e480355",
   "metadata": {},
   "outputs": [],
   "source": [
    "import pandas as pd\n",
    "import wandb\n",
    "import pandas as pd\n",
    "import seaborn as sns\n",
    "import matplotlib.pyplot as plt\n",
    "from sklearn.metrics import confusion_matrix\n",
    "from io import BytesIO\n",
    "from PIL import Image\n",
    "import numpy as np"
   ]
  },
  {
   "cell_type": "code",
   "execution_count": 3,
   "id": "9f69a51a",
   "metadata": {},
   "outputs": [
    {
     "name": "stdout",
     "output_type": "stream",
     "text": [
      "<wandb.sdk.wandb_run.Run at 0x7f08c4881ee0>"
     ]
    }
   ],
   "source": [
    "wandb.init(project=\"Question Type\", id='9diy6mi0', resume=\"must\")"
   ]
  },
  {
   "cell_type": "code",
   "execution_count": 4,
   "id": "37ff56af",
   "metadata": {},
   "outputs": [],
   "source": [
    "result = pd.read_csv('predictions.csv')"
   ]
  },
  {
   "cell_type": "code",
   "execution_count": 5,
   "id": "7db4edf9",
   "metadata": {},
   "outputs": [],
   "source": [
    "idx_to_ans_type = {0: 'yes/no', 1: 'action', 2: 'object', 3: 'location', 4: 'other', 5: 'color', 6: 'human', 7: 'number'}"
   ]
  },
  {
   "cell_type": "code",
   "execution_count": 6,
   "id": "70561232",
   "metadata": {},
   "outputs": [
    {
     "name": "stdout",
     "output_type": "stream",
     "text": [
      "       question id  target  prediction\n",
      "0            53983       5           5\n",
      "1           108616       7           4\n",
      "2           147680       0           0\n",
      "3            76757       2           2\n",
      "4           130783       4           5\n",
      "...            ...     ...         ...\n",
      "18469       106745       0           0\n",
      "18470        37605       1           1\n",
      "18471       129558       0           0\n",
      "18472       105698       5           5\n",
      "18473        24644       0           0\n",
      "\n",
      "[18474 rows x 3 columns]"
     ]
    }
   ],
   "source": [
    "result"
   ]
  },
  {
   "cell_type": "code",
   "execution_count": 7,
   "id": "3d9c4cf0",
   "metadata": {},
   "outputs": [],
   "source": [
    "result['target'] = result['target'].map(idx_to_ans_type)\n",
    "result['prediction'] = result['prediction'].map(idx_to_ans_type)"
   ]
  },
  {
   "cell_type": "code",
   "execution_count": 8,
   "id": "ab6a77cd",
   "metadata": {},
   "outputs": [
    {
     "name": "stdout",
     "output_type": "stream",
     "text": [
      "0         color\n",
      "1         other\n",
      "2        yes/no\n",
      "3        object\n",
      "4         color\n",
      "          ...  \n",
      "18469    yes/no\n",
      "18470    action\n",
      "18471    yes/no\n",
      "18472     color\n",
      "18473    yes/no\n",
      "Name: prediction, Length: 18474, dtype: object"
     ]
    }
   ],
   "source": [
    "result['prediction']"
   ]
  },
  {
   "cell_type": "code",
   "execution_count": 9,
   "id": "a7de6642",
   "metadata": {},
   "outputs": [],
   "source": [
    "result.to_csv(\"predictions.csv\")"
   ]
  },
  {
   "cell_type": "code",
   "execution_count": 10,
   "id": "026594a9",
   "metadata": {},
   "outputs": [
    {
     "name": "stdout",
     "output_type": "stream",
     "text": [
      "['/home/ndhuynh/github/Question-Analysis/wandb/run-20240118_134105-9diy6mi0/files/predictions.csv']"
     ]
    }
   ],
   "source": [
    "wandb.save(\"predictions.csv\")"
   ]
  },
  {
   "cell_type": "code",
   "execution_count": 11,
   "id": "2409bf3f",
   "metadata": {},
   "outputs": [],
   "source": [
    "test_result = result"
   ]
  },
  {
   "cell_type": "code",
   "execution_count": 12,
   "id": "798f88bd",
   "metadata": {},
   "outputs": [],
   "source": [
    "y_true = test_result['target']\n",
    "y_pred = test_result['prediction']\n",
    "conf_matrix = confusion_matrix(y_true, y_pred, labels=y_true.unique())\n",
    "\n",
    "# Normalize the confusion matrix\n",
    "conf_matrix_normalized = conf_matrix.astype('float') / conf_matrix.sum(axis=1)[:, np.newaxis]\n",
    "\n",
    "# Set up the matplotlib figure for side-by-side plots\n",
    "plt.figure(figsize=(30, 12))\n",
    "\n",
    "# Regular confusion matrix\n",
    "plt.subplot(1, 2, 1)\n",
    "sns.heatmap(conf_matrix, annot=True, fmt='d', \n",
    "            xticklabels=y_true.unique(), yticklabels=y_true.unique(), \n",
    "            cmap='Blues')\n",
    "plt.title('Confusion Matrix')\n",
    "plt.xlabel('Predicted Type')\n",
    "plt.ylabel('True Type')\n",
    "\n",
    "# Normalized confusion matrix\n",
    "plt.subplot(1, 2, 2)\n",
    "sns.heatmap(conf_matrix_normalized, annot=True, fmt='.2f', \n",
    "            xticklabels=y_true.unique(), yticklabels=y_true.unique(), \n",
    "            cmap='Blues')\n",
    "plt.title('Normalized Confusion Matrix')\n",
    "plt.xlabel('Predicted Type')\n",
    "plt.ylabel('True Type')\n",
    "\n",
    "# Main title\n",
    "\n",
    "# Save the plot to a buffer\n",
    "buffer = BytesIO()\n",
    "plt.savefig(buffer, format='png')\n",
    "buffer.seek(0)\n",
    "image = Image.open(buffer)\n",
    "image_array = np.array(image)\n",
    "\n",
    "# Log the image to wandb\n",
    "wandb.log({\"Confusion Matrix (3 types)\": wandb.Image(image_array)})\n",
    "\n",
    "# Close the plot\n",
    "plt.close()"
   ]
  },
  {
   "cell_type": "code",
   "execution_count": 13,
   "id": "6b32b026",
   "metadata": {},
   "outputs": [],
   "source": [
    "wandb.finish()"
   ]
  },
  {
   "cell_type": "code",
   "execution_count": 14,
   "id": "2ed9878c",
   "metadata": {},
   "outputs": [],
   "source": [
    "y_true = test_result['target']\n",
    "y_pred = test_result['prediction']\n",
    "conf_matrix = confusion_matrix(y_true, y_pred, labels=y_true.unique())\n",
    "\n",
    "# Normalize the confusion matrix\n",
    "conf_matrix_normalized = conf_matrix.astype('float') / conf_matrix.sum(axis=1)[:, np.newaxis]\n",
    "\n",
    "# Set up the matplotlib figure for side-by-side plots\n",
    "plt.figure(figsize=(30, 12))\n",
    "\n",
    "# Regular confusion matrix\n",
    "plt.subplot(1, 2, 1)\n",
    "sns.heatmap(conf_matrix, annot=True, fmt='d', \n",
    "            xticklabels=y_true.unique(), yticklabels=y_true.unique(), \n",
    "            cmap='Blues')\n",
    "plt.title('Confusion Matrix')\n",
    "plt.xlabel('Predicted Type')\n",
    "plt.ylabel('True Type')\n",
    "\n",
    "# Normalized confusion matrix\n",
    "plt.subplot(1, 2, 2)\n",
    "sns.heatmap(conf_matrix_normalized, annot=True, fmt='.2f', \n",
    "            xticklabels=y_true.unique(), yticklabels=y_true.unique(), \n",
    "            cmap='Blues')\n",
    "plt.title('Normalized Confusion Matrix')\n",
    "plt.xlabel('Predicted Type')\n",
    "plt.ylabel('True Type')\n",
    "\n",
    "# Main title\n",
    "\n",
    "# Save the plot to a buffer\n",
    "buffer = BytesIO()\n",
    "plt.savefig(buffer, format='png')\n",
    "buffer.seek(0)\n",
    "image = Image.open(buffer)\n",
    "image_array = np.array(image)\n",
    "\n",
    "# Log the image to wandb\n",
    "# wandb.log({\"Confusion Matrix (3 types)\": wandb.Image(image_array)})\n",
    "\n",
    "# Close the plot\n",
    "plt.show()"
   ]
  },
  {
   "cell_type": "code",
   "execution_count": 15,
   "id": "9b8aa297",
   "metadata": {},
   "outputs": [],
   "source": [
    "import pandas as pd\n",
    "import wandb\n",
    "import pandas as pd\n",
    "import seaborn as sns\n",
    "import matplotlib.pyplot as plt\n",
    "from sklearn.metrics import confusion_matrix\n",
    "from io import BytesIO\n",
    "from PIL import Image\n",
    "import numpy as np"
   ]
  },
  {
   "cell_type": "code",
   "execution_count": 16,
   "id": "864b814c",
   "metadata": {},
   "outputs": [
    {
     "name": "stdout",
     "output_type": "stream",
     "text": [
      "<wandb.sdk.wandb_run.Run at 0x7f08c3e26430>"
     ]
    },
    {
     "data": {
      "text/html": [
       "Tracking run with wandb version 0.16.2"
      ],
      "text/plain": [
       "<IPython.core.display.HTML object>"
      ]
     },
     "metadata": {},
     "output_type": "display_data"
    },
    {
     "data": {
      "text/html": [
       "Run data is saved locally in <code>/home/ndhuynh/github/Question-Analysis/wandb/run-20240119_000110-yfwmljbg</code>"
      ],
      "text/plain": [
       "<IPython.core.display.HTML object>"
      ]
     },
     "metadata": {},
     "output_type": "display_data"
    },
    {
     "data": {
      "text/html": [
       "Resuming run <strong><a href='https://wandb.ai/ngocdunghuynh/Question%20Type/runs/yfwmljbg' target=\"_blank\">BiLSTM+GLOVE 0</a></strong> to <a href='https://wandb.ai/ngocdunghuynh/Question%20Type' target=\"_blank\">Weights & Biases</a> (<a href='https://wandb.me/run' target=\"_blank\">docs</a>)<br/>"
      ],
      "text/plain": [
       "<IPython.core.display.HTML object>"
      ]
     },
     "metadata": {},
     "output_type": "display_data"
    },
    {
     "data": {
      "text/html": [
       " View project at <a href='https://wandb.ai/ngocdunghuynh/Question%20Type' target=\"_blank\">https://wandb.ai/ngocdunghuynh/Question%20Type</a>"
      ],
      "text/plain": [
       "<IPython.core.display.HTML object>"
      ]
     },
     "metadata": {},
     "output_type": "display_data"
    },
    {
     "data": {
      "text/html": [
       " View run at <a href='https://wandb.ai/ngocdunghuynh/Question%20Type/runs/yfwmljbg' target=\"_blank\">https://wandb.ai/ngocdunghuynh/Question%20Type/runs/yfwmljbg</a>"
      ],
      "text/plain": [
       "<IPython.core.display.HTML object>"
      ]
     },
     "metadata": {},
     "output_type": "display_data"
    }
   ],
   "source": [
    "wandb.init(project=\"Question Type\", id='yfwmljbg', resume=\"must\")"
   ]
  },
  {
   "cell_type": "code",
   "execution_count": 17,
   "id": "8d6275bb",
   "metadata": {},
   "outputs": [],
   "source": [
    "result = pd.read_csv('predictions_BiLSTM+Glove.csv')"
   ]
  },
  {
   "cell_type": "code",
   "execution_count": 18,
   "id": "7ee62eb3",
   "metadata": {},
   "outputs": [],
   "source": [
    "idx_to_ans_type = {0: 'yes/no', 1: 'action', 2: 'object', 3: 'location', 4: 'other', 5: 'color', 6: 'human', 7: 'number'}"
   ]
  },
  {
   "cell_type": "code",
   "execution_count": 19,
   "id": "7dc96c36",
   "metadata": {},
   "outputs": [
    {
     "name": "stdout",
     "output_type": "stream",
     "text": [
      "       question id  target  prediction\n",
      "0           152962       7           7\n",
      "1            55486       5           5\n",
      "2            74374       2           2\n",
      "3           152885       5           5\n",
      "4           117396       0           0\n",
      "...            ...     ...         ...\n",
      "18469       113695       2           2\n",
      "18470         8832       7           7\n",
      "18471        62147       5           5\n",
      "18472       111284       0           0\n",
      "18473        40714       2           2\n",
      "\n",
      "[18474 rows x 3 columns]"
     ]
    }
   ],
   "source": [
    "result"
   ]
  },
  {
   "cell_type": "code",
   "execution_count": 20,
   "id": "33a30584",
   "metadata": {},
   "outputs": [],
   "source": [
    "result['target'] = result['target'].map(idx_to_ans_type)\n",
    "result['prediction'] = result['prediction'].map(idx_to_ans_type)"
   ]
  },
  {
   "cell_type": "code",
   "execution_count": 21,
   "id": "90dbe54a",
   "metadata": {},
   "outputs": [
    {
     "name": "stdout",
     "output_type": "stream",
     "text": [
      "0        number\n",
      "1         color\n",
      "2        object\n",
      "3         color\n",
      "4        yes/no\n",
      "          ...  \n",
      "18469    object\n",
      "18470    number\n",
      "18471     color\n",
      "18472    yes/no\n",
      "18473    object\n",
      "Name: prediction, Length: 18474, dtype: object"
     ]
    }
   ],
   "source": [
    "result['prediction']"
   ]
  },
  {
   "cell_type": "code",
   "execution_count": 22,
   "id": "71f2c7db",
   "metadata": {},
   "outputs": [],
   "source": [
    "result.to_csv(\"predictions.csv\")"
   ]
  },
  {
   "cell_type": "code",
   "execution_count": 23,
   "id": "24807d9e",
   "metadata": {},
   "outputs": [],
   "source": [
    "result['target'] = result['target'].map(idx_to_ans_type)\n",
    "result['prediction'] = result['prediction'].map(idx_to_ans_type)"
   ]
  },
  {
   "cell_type": "code",
   "execution_count": 24,
   "id": "56724878",
   "metadata": {},
   "outputs": [
    {
     "name": "stdout",
     "output_type": "stream",
     "text": [
      "0        NaN\n",
      "1        NaN\n",
      "2        NaN\n",
      "3        NaN\n",
      "4        NaN\n",
      "        ... \n",
      "18469    NaN\n",
      "18470    NaN\n",
      "18471    NaN\n",
      "18472    NaN\n",
      "18473    NaN\n",
      "Name: prediction, Length: 18474, dtype: object"
     ]
    }
   ],
   "source": [
    "result['prediction']"
   ]
  },
  {
   "cell_type": "code",
   "execution_count": 25,
   "id": "e46a24d3",
   "metadata": {},
   "outputs": [],
   "source": [
    "result.to_csv(\"predictions.csv\")"
   ]
  },
  {
   "cell_type": "code",
   "execution_count": 26,
   "id": "e03152e3",
   "metadata": {},
   "outputs": [],
   "source": [
    "result = pd.read_csv('predictions_BiLSTM+Glove.csv')"
   ]
  },
  {
   "cell_type": "code",
   "execution_count": 27,
   "id": "ef1fc8a7",
   "metadata": {},
   "outputs": [],
   "source": [
    "idx_to_ans_type = {0: 'yes/no', 1: 'action', 2: 'object', 3: 'location', 4: 'other', 5: 'color', 6: 'human', 7: 'number'}"
   ]
  },
  {
   "cell_type": "code",
   "execution_count": 28,
   "id": "88e18657",
   "metadata": {},
   "outputs": [
    {
     "name": "stdout",
     "output_type": "stream",
     "text": [
      "       question id  target  prediction\n",
      "0           152962       7           7\n",
      "1            55486       5           5\n",
      "2            74374       2           2\n",
      "3           152885       5           5\n",
      "4           117396       0           0\n",
      "...            ...     ...         ...\n",
      "18469       113695       2           2\n",
      "18470         8832       7           7\n",
      "18471        62147       5           5\n",
      "18472       111284       0           0\n",
      "18473        40714       2           2\n",
      "\n",
      "[18474 rows x 3 columns]"
     ]
    }
   ],
   "source": [
    "result"
   ]
  },
  {
   "cell_type": "code",
   "execution_count": 29,
   "id": "8081df61",
   "metadata": {},
   "outputs": [],
   "source": [
    "result['target'] = result['target'].map(idx_to_ans_type)\n",
    "result['prediction'] = result['prediction'].map(idx_to_ans_type)"
   ]
  },
  {
   "cell_type": "code",
   "execution_count": 30,
   "id": "c30a5804",
   "metadata": {},
   "outputs": [
    {
     "name": "stdout",
     "output_type": "stream",
     "text": [
      "0        number\n",
      "1         color\n",
      "2        object\n",
      "3         color\n",
      "4        yes/no\n",
      "          ...  \n",
      "18469    object\n",
      "18470    number\n",
      "18471     color\n",
      "18472    yes/no\n",
      "18473    object\n",
      "Name: prediction, Length: 18474, dtype: object"
     ]
    }
   ],
   "source": [
    "result['prediction']"
   ]
  },
  {
   "cell_type": "code",
   "execution_count": 31,
   "id": "730296c9",
   "metadata": {},
   "outputs": [],
   "source": [
    "result.to_csv(\"predictions.csv\")"
   ]
  },
  {
   "cell_type": "code",
   "execution_count": 32,
   "id": "e59a41e7",
   "metadata": {},
   "outputs": [
    {
     "name": "stdout",
     "output_type": "stream",
     "text": [
      "['/home/ndhuynh/github/Question-Analysis/wandb/run-20240119_000110-yfwmljbg/files/predictions.csv']"
     ]
    }
   ],
   "source": [
    "wandb.save(\"predictions.csv\")"
   ]
  },
  {
   "cell_type": "code",
   "execution_count": 33,
   "id": "6e9f9535",
   "metadata": {},
   "outputs": [],
   "source": [
    "test_result = result"
   ]
  },
  {
   "cell_type": "code",
   "execution_count": 34,
   "id": "8ef7ca51",
   "metadata": {},
   "outputs": [],
   "source": [
    "y_true = test_result['target']\n",
    "y_pred = test_result['prediction']\n",
    "conf_matrix = confusion_matrix(y_true, y_pred, labels=y_true.unique())\n",
    "\n",
    "# Normalize the confusion matrix\n",
    "conf_matrix_normalized = conf_matrix.astype('float') / conf_matrix.sum(axis=1)[:, np.newaxis]\n",
    "\n",
    "# Set up the matplotlib figure for side-by-side plots\n",
    "plt.figure(figsize=(30, 12))\n",
    "\n",
    "# Regular confusion matrix\n",
    "plt.subplot(1, 2, 1)\n",
    "sns.heatmap(conf_matrix, annot=True, fmt='d', \n",
    "            xticklabels=y_true.unique(), yticklabels=y_true.unique(), \n",
    "            cmap='Blues')\n",
    "plt.title('Confusion Matrix')\n",
    "plt.xlabel('Predicted Type')\n",
    "plt.ylabel('True Type')\n",
    "\n",
    "# Normalized confusion matrix\n",
    "plt.subplot(1, 2, 2)\n",
    "sns.heatmap(conf_matrix_normalized, annot=True, fmt='.2f', \n",
    "            xticklabels=y_true.unique(), yticklabels=y_true.unique(), \n",
    "            cmap='Blues')\n",
    "plt.title('Normalized Confusion Matrix')\n",
    "plt.xlabel('Predicted Type')\n",
    "plt.ylabel('True Type')\n",
    "\n",
    "# Main title\n",
    "\n",
    "# Save the plot to a buffer\n",
    "buffer = BytesIO()\n",
    "plt.savefig(buffer, format='png')\n",
    "buffer.seek(0)\n",
    "image = Image.open(buffer)\n",
    "image_array = np.array(image)\n",
    "wandb.log({\"Confusion Matrix (3 types)\": wandb.Image(image_array)})"
   ]
  },
  {
   "cell_type": "code",
   "execution_count": 35,
   "id": "4b677708",
   "metadata": {},
   "outputs": [
    {
     "data": {
      "image/png": "[encoded data removed]",
      "text/plain": [
       "<Figure size 3000x1200 with 4 Axes>"
      ]
     },
     "metadata": {},
     "output_type": "display_data"
    }
   ],
   "source": [
    "wandb.finish()"
   ]
  }
 ],
 "metadata": {
  "kernelspec": {
   "display_name": "Python 3",
   "language": "python",
   "name": "python3"
  },
  "language_info": {
   "codemirror_mode": {
    "name": "ipython",
    "version": 3
   },
   "file_extension": ".py",
   "mimetype": "text/x-python",
   "name": "python",
   "nbconvert_exporter": "python",
   "pygments_lexer": "ipython3",
   "version": "3.9.18"
  }
 },
 "nbformat": 4,
 "nbformat_minor": 5
}
