{
 "cells": [
  {
   "cell_type": "code",
   "execution_count": 1,
   "id": "f967127b",
   "metadata": {},
   "outputs": [],
   "source": [
    "import pandas as pd\n",
    "import wandb\n",
    "import pandas as pd\n",
    "import seaborn as sns\n",
    "import matplotlib.pyplot as plt\n",
    "from sklearn.metrics import confusion_matrix\n",
    "from io import BytesIO\n",
    "from PIL import Image\n",
    "import numpy as np"
   ]
  },
  {
   "cell_type": "code",
   "execution_count": 2,
   "id": "40ad1a92",
   "metadata": {},
   "outputs": [
    {
     "name": "stdout",
     "output_type": "stream",
     "text": [
      "<wandb.sdk.wandb_run.Run at 0x7f231318ee80>"
     ]
    },
    {
     "data": {
      "text/html": [
       "Tracking run with wandb version 0.16.2"
      ],
      "text/plain": [
       "<IPython.core.display.HTML object>"
      ]
     },
     "metadata": {},
     "output_type": "display_data"
    },
    {
     "data": {
      "text/html": [
       "Run data is saved locally in <code>/home/ndhuynh/github/Question-Analysis/wandb/run-20240118_125627-yeisblti</code>"
      ],
      "text/plain": [
       "<IPython.core.display.HTML object>"
      ]
     },
     "metadata": {},
     "output_type": "display_data"
    },
    {
     "data": {
      "text/html": [
       "Resuming run <strong><a href='https://wandb.ai/ngocdunghuynh/Question%20Type/runs/yeisblti' target=\"_blank\">LSTM 0</a></strong> to <a href='https://wandb.ai/ngocdunghuynh/Question%20Type' target=\"_blank\">Weights & Biases</a> (<a href='https://wandb.me/run' target=\"_blank\">docs</a>)<br/>"
      ],
      "text/plain": [
       "<IPython.core.display.HTML object>"
      ]
     },
     "metadata": {},
     "output_type": "display_data"
    },
    {
     "data": {
      "text/html": [
       " View project at <a href='https://wandb.ai/ngocdunghuynh/Question%20Type' target=\"_blank\">https://wandb.ai/ngocdunghuynh/Question%20Type</a>"
      ],
      "text/plain": [
       "<IPython.core.display.HTML object>"
      ]
     },
     "metadata": {},
     "output_type": "display_data"
    },
    {
     "data": {
      "text/html": [
       " View run at <a href='https://wandb.ai/ngocdunghuynh/Question%20Type/runs/yeisblti' target=\"_blank\">https://wandb.ai/ngocdunghuynh/Question%20Type/runs/yeisblti</a>"
      ],
      "text/plain": [
       "<IPython.core.display.HTML object>"
      ]
     },
     "metadata": {},
     "output_type": "display_data"
    }
   ],
   "source": [
    "wandb.init(project=\"Question Type\", id='yeisblti', resume=\"must\")"
   ]
  },
  {
   "cell_type": "code",
   "execution_count": 3,
   "id": "ad4527ca",
   "metadata": {},
   "outputs": [],
   "source": [
    "result = pd.read_csv('predictions.csv')"
   ]
  },
  {
   "cell_type": "code",
   "execution_count": 4,
   "id": "94968ad4",
   "metadata": {},
   "outputs": [],
   "source": [
    "idx_to_ans_type = {0: 'yes/no', 1: 'action', 2: 'object', 3: 'location', 4: 'other', 5: 'color', 6: 'human', 7: 'number'}"
   ]
  },
  {
   "cell_type": "code",
   "execution_count": 5,
   "id": "2a00a537",
   "metadata": {},
   "outputs": [
    {
     "name": "stdout",
     "output_type": "stream",
     "text": [
      "       question id  target  prediction\n",
      "0           104979       7           7\n",
      "1            51254       5           5\n",
      "2            70520       2           2\n",
      "3           139462       0           0\n",
      "4            16508       7           7\n",
      "...            ...     ...         ...\n",
      "18469        78025       2           2\n",
      "18470        71599       2           2\n",
      "18471       115276       0           0\n",
      "18472        61212       5           5\n",
      "18473       163806       7           7\n",
      "\n",
      "[18474 rows x 3 columns]"
     ]
    }
   ],
   "source": [
    "result"
   ]
  },
  {
   "cell_type": "code",
   "execution_count": 6,
   "id": "fafd2b30",
   "metadata": {},
   "outputs": [],
   "source": [
    "result['target'] = result['target'].map(idx_to_ans_type)\n",
    "result['prediction'] = result['prediction'].map(idx_to_ans_type)"
   ]
  },
  {
   "cell_type": "code",
   "execution_count": 7,
   "id": "be7f3940",
   "metadata": {},
   "outputs": [
    {
     "name": "stdout",
     "output_type": "stream",
     "text": [
      "0        number\n",
      "1         color\n",
      "2        object\n",
      "3        yes/no\n",
      "4        number\n",
      "          ...  \n",
      "18469    object\n",
      "18470    object\n",
      "18471    yes/no\n",
      "18472     color\n",
      "18473    number\n",
      "Name: prediction, Length: 18474, dtype: object"
     ]
    }
   ],
   "source": [
    "result['prediction']"
   ]
  },
  {
   "cell_type": "code",
   "execution_count": 8,
   "id": "e1cd71a0",
   "metadata": {},
   "outputs": [],
   "source": [
    "result.to_csv(\"predictions.csv\")"
   ]
  },
  {
   "cell_type": "code",
   "execution_count": 9,
   "id": "75f4d6f0",
   "metadata": {},
   "outputs": [
    {
     "name": "stdout",
     "output_type": "stream",
     "text": [
      "['/home/ndhuynh/github/Question-Analysis/wandb/run-20240118_125627-yeisblti/files/predictions.csv']"
     ]
    }
   ],
   "source": [
    "wandb.save(\"predictions.csv\")"
   ]
  },
  {
   "cell_type": "code",
   "execution_count": 10,
   "id": "3be981a1",
   "metadata": {},
   "outputs": [],
   "source": [
    "test_result = result"
   ]
  },
  {
   "cell_type": "code",
   "execution_count": 11,
   "id": "f1c11dc7",
   "metadata": {},
   "outputs": [],
   "source": [
    "y_true = test_result['target']\n",
    "y_pred = test_result['prediction']\n",
    "conf_matrix = confusion_matrix(y_true, y_pred, labels=y_true.unique())\n",
    "\n",
    "# Normalize the confusion matrix\n",
    "conf_matrix_normalized = conf_matrix.astype('float') / conf_matrix.sum(axis=1)[:, np.newaxis]\n",
    "\n",
    "# Set up the matplotlib figure for side-by-side plots\n",
    "plt.figure(figsize=(30, 12))\n",
    "\n",
    "# Regular confusion matrix\n",
    "plt.subplot(1, 2, 1)\n",
    "sns.heatmap(conf_matrix, annot=True, fmt='d', \n",
    "            xticklabels=y_true.unique(), yticklabels=y_true.unique(), \n",
    "            cmap='Blues')\n",
    "plt.title('Confusion Matrix')\n",
    "plt.xlabel('Predicted Type')\n",
    "plt.ylabel('True Type')\n",
    "\n",
    "# Normalized confusion matrix\n",
    "plt.subplot(1, 2, 2)\n",
    "sns.heatmap(conf_matrix_normalized, annot=True, fmt='.2f', \n",
    "            xticklabels=y_true.unique(), yticklabels=y_true.unique(), \n",
    "            cmap='Blues')\n",
    "plt.title('Normalized Confusion Matrix')\n",
    "plt.xlabel('Predicted Type')\n",
    "plt.ylabel('True Type')\n",
    "\n",
    "# Main title\n",
    "\n",
    "# Save the plot to a buffer\n",
    "buffer = BytesIO()\n",
    "plt.savefig(buffer, format='png')\n",
    "buffer.seek(0)\n",
    "image = Image.open(buffer)\n",
    "image_array = np.array(image)\n",
    "\n",
    "# Log the image to wandb\n",
    "wandb.log({\"Confusion Matrix (3 types)\": wandb.Image(image_array)})\n",
    "\n",
    "# Close the plot\n",
    "plt.close()"
   ]
  },
  {
   "cell_type": "code",
   "execution_count": 12,
   "id": "9ba237b3",
   "metadata": {},
   "outputs": [],
   "source": [
    "wandb.finish()"
   ]
  }
 ],
 "metadata": {
  "kernelspec": {
   "display_name": "Python 3",
   "language": "python",
   "name": "python3"
  },
  "language_info": {
   "codemirror_mode": {
    "name": "ipython",
    "version": 3
   },
   "file_extension": ".py",
   "mimetype": "text/x-python",
   "name": "python",
   "nbconvert_exporter": "python",
   "pygments_lexer": "ipython3",
   "version": "3.9.18"
  }
 },
 "nbformat": 4,
 "nbformat_minor": 5
}
